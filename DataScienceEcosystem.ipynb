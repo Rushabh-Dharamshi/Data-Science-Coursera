{
 "cells": [
  {
   "cell_type": "markdown",
   "id": "8b7b562d-cf6a-46c7-8ce2-bc4ebee6b2ca",
   "metadata": {},
   "source": [
    "# Data Science Tools and EcoSystems"
   ]
  },
  {
   "cell_type": "markdown",
   "id": "7c79d5d1-e471-4439-bfbe-8c84c48d7f27",
   "metadata": {},
   "source": [
    "In this notebook, Data Science Tools and Ecosystem are summarized.\r\n"
   ]
  },
  {
   "cell_type": "markdown",
   "id": "286310be-2ade-4b65-8086-b5bd23f47017",
   "metadata": {},
   "source": [
    "__Objectives:__\n",
    "+ Popular Languages for Data Scientists\n",
    "+ Popular libraries used by Data Scientists\n",
    "+ Data Science tools\n",
    "  "
   ]
  },
  {
   "cell_type": "markdown",
   "id": "8696e504-afe1-4e41-8e1f-7ab6c052b051",
   "metadata": {},
   "source": [
    "Some of the popular languages that Data Scientists use are:\n",
    "1. Python\n",
    "2. R\n",
    "3. SQL\n",
    "4. Julia\n",
    "5. Java\n"
   ]
  },
  {
   "cell_type": "markdown",
   "id": "35714a06-544f-4337-bb43-f1188a3924d4",
   "metadata": {},
   "source": [
    "Some of the commonly used libraries used by Data Scientists include:\n",
    "1. Pandas\n",
    "2. NumPy\n",
    "3. SciPy\n",
    "4. BeautifulSoup"
   ]
  },
  {
   "cell_type": "markdown",
   "id": "6a4a3c9c-a253-4289-8583-5a835b5d43d0",
   "metadata": {},
   "source": [
    "| Data Science Tools |\n",
    "| ------------------ |\n",
    "|  Jupyter Notebook  |\n",
    "|  RStudio           |\n",
    "|  Spyder            |"
   ]
  },
  {
   "cell_type": "markdown",
   "id": "7a3b5cd0-c926-483b-babb-4c5a75991704",
   "metadata": {},
   "source": [
    "### Below are a few examples of evaluating arithmetic expressions in Python.\n"
   ]
  },
  {
   "cell_type": "code",
   "execution_count": 2,
   "id": "e95460e5-b22a-41ca-8521-8655d40cf45d",
   "metadata": {},
   "outputs": [
    {
     "data": {
      "text/plain": [
       "17"
      ]
     },
     "execution_count": 2,
     "metadata": {},
     "output_type": "execute_result"
    }
   ],
   "source": [
    "# This is a simple arithmetic expression to multiply then add numbers\n",
    "(3*4)+5"
   ]
  },
  {
   "cell_type": "code",
   "execution_count": 7,
   "id": "bd9ffc9f-57d3-4aaf-a9cc-5599698b309b",
   "metadata": {},
   "outputs": [
    {
     "name": "stdout",
     "output_type": "stream",
     "text": [
      "3.3333333333333335 hours = 200 minutes\n"
     ]
    }
   ],
   "source": [
    "# This will convert 200 minutes to hours by dividing by 60\n",
    "print(200/60, \"hours = 200 minutes\")"
   ]
  },
  {
   "cell_type": "markdown",
   "id": "01a22a78-1e0c-4a2e-933c-2c80c3c57d9d",
   "metadata": {},
   "source": [
    "## Author\n",
    "Rushabh Dharamshi"
   ]
  }
 ],
 "metadata": {
  "kernelspec": {
   "display_name": "Python 3 (ipykernel)",
   "language": "python",
   "name": "python3"
  },
  "language_info": {
   "codemirror_mode": {
    "name": "ipython",
    "version": 3
   },
   "file_extension": ".py",
   "mimetype": "text/x-python",
   "name": "python",
   "nbconvert_exporter": "python",
   "pygments_lexer": "ipython3",
   "version": "3.12.4"
  }
 },
 "nbformat": 4,
 "nbformat_minor": 5
}
